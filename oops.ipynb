{
 "cells": [
  {
   "cell_type": "code",
   "execution_count": 5,
   "id": "497edeee-8eef-49ad-8c31-05eb0359e05d",
   "metadata": {},
   "outputs": [
    {
     "name": "stdout",
     "output_type": "stream",
     "text": [
      "black car is 90 speed\n",
      "red car is 80 speed\n",
      "fast\n",
      "suzuki\n"
     ]
    }
   ],
   "source": [
    "class car:\n",
    "    def __init__(self,color,speed):\n",
    "        self.color=color\n",
    "        self.speed=speed\n",
    "    def drive(self):\n",
    "        print(\"fast\")\n",
    "    def company(self):\n",
    "        print(\"suzuki\")\n",
    "\n",
    "car1=car(\"black\",90)\n",
    "car2=car(\"red\",80)\n",
    "print(f\"{car1.color} car is {car1.speed} speed\")\n",
    "print(f\"{car2.color} car is {car2.speed} speed\")\n",
    "car1.drive ()\n",
    "car2.company()"
   ]
  },
  {
   "cell_type": "code",
   "execution_count": 22,
   "id": "234c983a-7444-4c62-92de-cd01c32dbfe4",
   "metadata": {},
   "outputs": [
    {
     "name": "stdout",
     "output_type": "stream",
     "text": [
      "wipro is located at hyderabad with 30 k per month\n",
      "infosys is located at banglore with40 k per month\n",
      "ibm is located at chennai with 90 k per month\n",
      "tcs is located at mumbai with 70 k per month\n",
      "india\n"
     ]
    }
   ],
   "source": [
    "class company:\n",
    "    def __init__(self,name,location,salary):\n",
    "        self.name=name\n",
    "        self.location=location\n",
    "        self.salary=salary\n",
    "    def ITcompanies(self):\n",
    "        print(\"india\")\n",
    "\n",
    "company1=company(\"wipro\",\"hyderabad\",30)\n",
    "company2=company(\"infosys\",\"banglore\",40)\n",
    "company3=company(\"ibm\",\"chennai\",90)\n",
    "company4=company(\"tcs\",\"mumbai\",70)\n",
    "print(f\"{company1.name} is located at {company1.location} with {company1.salary} k per month\")\n",
    "print(f\"{company2.name} is located at {company2.location} with{company2.salary} k per month\")\n",
    "print(f\"{company3.name} is located at {company3.location} with {company3.salary} k per month\")\n",
    "print(f\"{company4.name} is located at {company4.location} with {company4.salary} k per month\")\n",
    "company1.ITcompanies()\n",
    "\n",
    "        "
   ]
  },
  {
   "cell_type": "code",
   "execution_count": 14,
   "id": "d711d639-0625-4369-97e6-0251fa4bde6f",
   "metadata": {},
   "outputs": [
    {
     "name": "stdout",
     "output_type": "stream",
     "text": [
      "lotus restuarent biryani is 800\n",
      "international restuarent chicken is 1100\n",
      "elite restuarent rayalasema chicken is 1500\n",
      "welcome to all\n"
     ]
    }
   ],
   "source": [
    "class restuarent:\n",
    "    def __init__(self,name,items,cost):\n",
    "        self.name=name\n",
    "        self.items=items\n",
    "        self.cost=cost\n",
    "    def customers(self):\n",
    "        print(\"welcome to all\")\n",
    "\n",
    "restuarent1=restuarent(\"lotus\",\"biryani\",800)\n",
    "restuarent2=restuarent(\"international\",\"chicken\",1100)\n",
    "restuarent3=restuarent(\"elite\",\"rayalasema chicken\",1500)\n",
    "print(f\"{restuarent1.name} restuarent {restuarent1.items} is {restuarent1.cost}\")\n",
    "print(f\"{restuarent2.name} restuarent {restuarent2.items} is {restuarent2.cost}\")\n",
    "print(f\"{restuarent3.name} restuarent {restuarent3.items} is {restuarent3.cost}\")\n",
    "restuarent2.customers()"
   ]
  },
  {
   "cell_type": "code",
   "execution_count": 4,
   "id": "ec8fe4d3-1287-40a6-8bbf-8731bb1b2691",
   "metadata": {},
   "outputs": [
    {
     "name": "stdout",
     "output_type": "stream",
     "text": [
      "magbul is a white color \n",
      "navee is a normal color \n"
     ]
    }
   ],
   "source": [
    "class gender:\n",
    "    def __init__(self,name,color):\n",
    "        self.name=name\n",
    "        self.color=color\n",
    "    def __str__(self):\n",
    "        return f\"{self.name} is a {self.color} \"\n",
    "\n",
    "my_gender=gender(name=\"magbul\",color=\"white color\")\n",
    "my_genders=gender(name=\"navee\",color=\"normal color\")\n",
    "print(my_gender)\n",
    "print(my_genders)\n",
    "        "
   ]
  },
  {
   "cell_type": "code",
   "execution_count": 30,
   "id": "af79023d-6a3d-40b9-bc35-8eedaecd7ffc",
   "metadata": {},
   "outputs": [
    {
     "name": "stdout",
     "output_type": "stream",
     "text": [
      "maths 90\n",
      "english 95\n",
      "telugu 100\n"
     ]
    }
   ],
   "source": [
    "class branches:\n",
    "    def __init__(self,subject,score):\n",
    "        self.subject=subject\n",
    "        self.score=score\n",
    "    def __str__(self):\n",
    "        return f\"{self.subject} {self.score}\"\n",
    "\n",
    "my_branches=branches(subject=\"maths\",score=90)\n",
    "my_detailes=branches(subject=\"english\",score=95)\n",
    "my_values=branches(subject=\"telugu\",score=100)\n",
    "print(my_branches)\n",
    "print(my_detailes)\n",
    "print(my_values)"
   ]
  },
  {
   "cell_type": "code",
   "execution_count": 2,
   "id": "bf58a126-ea60-4573-aee9-25e423c358ce",
   "metadata": {},
   "outputs": [
    {
     "name": "stdout",
     "output_type": "stream",
     "text": [
      "brinjal is a 1kg 30 rs the color is green\n",
      "potatao is a 1kg 20 rs the color is yellow\n",
      "carrot is a 1kg 40 rs the color is orange\n"
     ]
    }
   ],
   "source": [
    "class vegetables:\n",
    "    def __init__(self,name,cost,color):\n",
    "        self.name=name\n",
    "        self.cost=cost\n",
    "        self.color=color\n",
    "    def __str__(self):\n",
    "        return f\"{self.name} is a 1kg {self.cost} rs the color is {self.color}\"\n",
    "\n",
    "vegetable1=vegetables(name=\"brinjal\",cost=30, color=\"green\")\n",
    "vegetable2=vegetables(name=\"potatao\",cost=20, color=\"yellow\")\n",
    "vegetable3=vegetables(name=\"carrot\",cost=40, color=\"orange\")\n",
    "print(vegetable1)\n",
    "print(vegetable2)\n",
    "print(vegetable3)"
   ]
  },
  {
   "cell_type": "code",
   "execution_count": null,
   "id": "cc76dec4-9396-4c30-a069-480a1f0e6a34",
   "metadata": {},
   "outputs": [],
   "source": []
  }
 ],
 "metadata": {
  "kernelspec": {
   "display_name": "Python 3 (ipykernel)",
   "language": "python",
   "name": "python3"
  },
  "language_info": {
   "codemirror_mode": {
    "name": "ipython",
    "version": 3
   },
   "file_extension": ".py",
   "mimetype": "text/x-python",
   "name": "python",
   "nbconvert_exporter": "python",
   "pygments_lexer": "ipython3",
   "version": "3.11.7"
  }
 },
 "nbformat": 4,
 "nbformat_minor": 5
}
