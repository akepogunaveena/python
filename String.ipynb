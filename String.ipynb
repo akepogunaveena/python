{
 "cells": [
  {
   "cell_type": "markdown",
   "id": "e705f847-bcb0-4064-b237-16978d4e0fab",
   "metadata": {},
   "source": [
    "# Methods"
   ]
  },
  {
   "cell_type": "markdown",
   "id": "884fb9e3-3317-4833-92ea-d8bba5de4ace",
   "metadata": {},
   "source": [
    "- str.capitalize():"
   ]
  },
  {
   "cell_type": "markdown",
   "id": "941ecb91-5b9d-498e-849a-039b689f802b",
   "metadata": {},
   "source": [
    "`Returns a copy of the string with its first character capitalized and the rest lowercase."
   ]
  },
  {
   "cell_type": "code",
   "execution_count": 6,
   "id": "bb103d10-84d3-4cb9-a873-f3b8eabf7114",
   "metadata": {},
   "outputs": [
    {
     "name": "stdout",
     "output_type": "stream",
     "text": [
      "Hello world\n"
     ]
    }
   ],
   "source": [
    "str = \"hello world\"\n",
    "print(str.capitalize())  "
   ]
  },
  {
   "cell_type": "markdown",
   "id": "ab658118-467f-437e-8aa0-08bec83175bf",
   "metadata": {},
   "source": [
    "- str.format():"
   ]
  },
  {
   "cell_type": "markdown",
   "id": "9ea5cdd7-bf31-46bd-8609-de9674e660df",
   "metadata": {},
   "source": [
    "Formats the string according to the specified format"
   ]
  },
  {
   "cell_type": "code",
   "execution_count": 9,
   "id": "ca915d70-5abb-4aaa-a0ac-32a2821f0f20",
   "metadata": {},
   "outputs": [
    {
     "name": "stdout",
     "output_type": "stream",
     "text": [
      "My name is Magbul and I am 22 years old.\n"
     ]
    }
   ],
   "source": [
    "name = \"Magbul\"\n",
    "age = 22\n",
    "print(\"My name is {} and I am {} years old.\".format(name, age))\n"
   ]
  },
  {
   "cell_type": "markdown",
   "id": "4ff9c4b6-c177-44e3-8c35-25d346405cb4",
   "metadata": {},
   "source": [
    "- str.startswith(prefix[, start[, end]]) and str.endswith(suffix[, start[, end]]):"
   ]
  },
  {
   "cell_type": "code",
   "execution_count": 10,
   "id": "abd588e9-129e-4973-9c14-6f8771539613",
   "metadata": {},
   "outputs": [
    {
     "name": "stdout",
     "output_type": "stream",
     "text": [
      "True\n",
      "True\n"
     ]
    }
   ],
   "source": [
    "text = \"hello world\"\n",
    "print(text.startswith(\"hello\"))  \n",
    "print(text.endswith(\"world\"))  "
   ]
  },
  {
   "cell_type": "code",
   "execution_count": 11,
   "id": "b5d22956-186a-4a83-b854-d525f3c2095e",
   "metadata": {},
   "outputs": [
    {
     "name": "stdout",
     "output_type": "stream",
     "text": [
      "False\n",
      "True\n"
     ]
    }
   ],
   "source": [
    "text = \"hello world\"\n",
    "print(text.startswith(\"world\"))\n",
    "print(text.endswith(\"world\"))"
   ]
  },
  {
   "cell_type": "markdown",
   "id": "9f6e5b58-f8d6-4f29-b357-0b53d27ec917",
   "metadata": {},
   "source": [
    "- str.count(sub[, start[, end]]): "
   ]
  },
  {
   "cell_type": "markdown",
   "id": "3570915d-3124-4025-b7ed-d43c775a293c",
   "metadata": {},
   "source": [
    "Returns the number of occurrences of substring sub in the given string."
   ]
  },
  {
   "cell_type": "markdown",
   "id": "8ba1ce73-4e88-4c97-b319-e0ddbff2e676",
   "metadata": {},
   "source": [
    "text = \"hello world\"\n",
    "print(text.count(\"hello\"))"
   ]
  },
  {
   "cell_type": "code",
   "execution_count": 19,
   "id": "26ba5e14-9a80-401e-b987-d93bd8d5ab2f",
   "metadata": {},
   "outputs": [
    {
     "name": "stdout",
     "output_type": "stream",
     "text": [
      "2\n"
     ]
    }
   ],
   "source": [
    "text = 'good good morning'\n",
    "print(text.count('good'))"
   ]
  },
  {
   "cell_type": "markdown",
   "id": "fa4d6031-d4fc-4ed6-842e-01b54734c1bd",
   "metadata": {},
   "source": [
    "- str.isdigit(), str.isalpha(), str.isalnum(), str.isspace():\n"
   ]
  },
  {
   "cell_type": "code",
   "execution_count": 24,
   "id": "5711a61b-e30d-4471-9f6f-9f9b481b13d1",
   "metadata": {},
   "outputs": [
    {
     "name": "stdout",
     "output_type": "stream",
     "text": [
      "True\n",
      "True\n",
      "True\n",
      "True\n"
     ]
    }
   ],
   "source": [
    "print(\"123\".isdigit())  \n",
    "print(\"abc\".isalpha()) \n",
    "print(\"123abc\".isalnum()) \n",
    "print(\"   \".isspace())"
   ]
  },
  {
   "cell_type": "markdown",
   "id": "8d6e6cc5-a5d7-4ded-8d99-3bc351c2ac05",
   "metadata": {},
   "source": [
    "- str.partition(sep) and str.rpartition(sep):"
   ]
  },
  {
   "cell_type": "markdown",
   "id": "1bc1c7ff-e8b4-437e-9536-ea5bea113d8b",
   "metadata": {},
   "source": [
    " Splits the string at the first occurrence of the separator and returns a tuple containing the part before the separator, the separator itself, and the part after the separator. rpartition() does the same, but starts from the end of the string."
   ]
  },
  {
   "cell_type": "code",
   "execution_count": 27,
   "id": "715cddc1-621b-4bd5-ad5c-2266d8d28957",
   "metadata": {},
   "outputs": [
    {
     "name": "stdout",
     "output_type": "stream",
     "text": [
      "('hello', ' ', 'world')\n",
      "('hello', ' ', 'world')\n"
     ]
    }
   ],
   "source": [
    "text = \"hello world\"\n",
    "print(text.partition(\" \"))  \n",
    "print(text.rpartition(\" \"))  "
   ]
  },
  {
   "cell_type": "code",
   "execution_count": null,
   "id": "b21a3210-2d9a-435b-987c-13eb3b5281b6",
   "metadata": {},
   "outputs": [],
   "source": []
  }
 ],
 "metadata": {
  "kernelspec": {
   "display_name": "Python 3 (ipykernel)",
   "language": "python",
   "name": "python3"
  },
  "language_info": {
   "codemirror_mode": {
    "name": "ipython",
    "version": 3
   },
   "file_extension": ".py",
   "mimetype": "text/x-python",
   "name": "python",
   "nbconvert_exporter": "python",
   "pygments_lexer": "ipython3",
   "version": "3.11.7"
  }
 },
 "nbformat": 4,
 "nbformat_minor": 5
}
