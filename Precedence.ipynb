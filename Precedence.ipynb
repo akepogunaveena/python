{
 "cells": [
  {
   "cell_type": "markdown",
   "id": "f6eb7ceb-5a52-4b36-b491-6e843d173aed",
   "metadata": {},
   "source": [
    "# Precedence"
   ]
  },
  {
   "cell_type": "markdown",
   "id": "473ad34c-3b16-40f3-8d72-46eee7593181",
   "metadata": {},
   "source": [
    "- Operators precedence describes the order in which operations are performed"
   ]
  },
  {
   "cell_type": "code",
   "execution_count": null,
   "id": "10130d40-cbcd-4b97-a8a1-e14d64e9b57b",
   "metadata": {},
   "outputs": [],
   "source": [
    "()                = Paranthesis\n",
    "**                = Exponentiation\n",
    "+x -x ~x          = unary plus,unary minus,bitwise NOT\n",
    "* / // %          =Multiplication,Dividion,Floor division,Modulus\n",
    "+ -               = Addition and subtraction\n",
    "<<  >>            = Bitwise left and right shifts\n",
    "&                 = Bitwise AND\n",
    "^                 = Bitwise XOR\n",
    "|                 = Bitwise OR\n",
    "== != > >= < <= \n",
    "is isnot in notin = comparisions,identity,and membership operations\n",
    "not               = logical NOT\n",
    "and               = AND\n",
    "or                =  OR"
   ]
  },
  {
   "cell_type": "code",
   "execution_count": 1,
   "id": "db4be563-3a50-46bc-b366-48ae0fa2d357",
   "metadata": {},
   "outputs": [
    {
     "data": {
      "text/plain": [
       "497.30434782608694"
      ]
     },
     "execution_count": 1,
     "metadata": {},
     "output_type": "execute_result"
    }
   ],
   "source": [
    "1. 7+(2-32)+23*23+(32-232)/23"
   ]
  },
  {
   "cell_type": "code",
   "execution_count": 2,
   "id": "f409238c-8b1a-434c-ae73-0eef5c839a1e",
   "metadata": {},
   "outputs": [
    {
     "data": {
      "text/plain": [
       "966000.0"
      ]
     },
     "execution_count": 2,
     "metadata": {},
     "output_type": "execute_result"
    }
   ],
   "source": [
    "7*(2-32)*23*23*(32-232)/23"
   ]
  },
  {
   "cell_type": "code",
   "execution_count": 3,
   "id": "7237ea76-555f-484c-b172-61959b7014c3",
   "metadata": {},
   "outputs": [
    {
     "data": {
      "text/plain": [
       "5.072463768115943e-05"
      ]
     },
     "execution_count": 3,
     "metadata": {},
     "output_type": "execute_result"
    }
   ],
   "source": [
    "7/(2-32)/23*23/(32-232)/23"
   ]
  },
  {
   "cell_type": "code",
   "execution_count": 10,
   "id": "095a2593-bf55-44f1-972d-fda53719d95c",
   "metadata": {},
   "outputs": [
    {
     "data": {
      "text/plain": [
       "63.407407407407405"
      ]
     },
     "execution_count": 10,
     "metadata": {},
     "output_type": "execute_result"
    }
   ],
   "source": [
    "2. 78-23+23+23+12+123-232+(34/54*34+4)+34"
   ]
  },
  {
   "cell_type": "code",
   "execution_count": 8,
   "id": "209e2614-d239-4b9b-b15b-d8977b5b4b7a",
   "metadata": {},
   "outputs": [
    {
     "data": {
      "text/plain": [
       "-200177.62962962966"
      ]
     },
     "execution_count": 8,
     "metadata": {},
     "output_type": "execute_result"
    }
   ],
   "source": [
    "78-23+23+23+12+123-232*(34/54*34+4)*34"
   ]
  },
  {
   "cell_type": "code",
   "execution_count": 9,
   "id": "b5b099b1-dc9f-4adc-ab14-7f3887f51bfb",
   "metadata": {},
   "outputs": [
    {
     "data": {
      "text/plain": [
       "235.7314354313154"
      ]
     },
     "execution_count": 9,
     "metadata": {},
     "output_type": "execute_result"
    }
   ],
   "source": [
    "78-23+23+23+12+123-232/(34/54*34+4)/34"
   ]
  },
  {
   "cell_type": "markdown",
   "id": "23b933ce-6755-486a-a553-8f7bf244f11a",
   "metadata": {},
   "source": [
    "3. What is the difference between equal to(=) and real equal to(==)"
   ]
  },
  {
   "cell_type": "markdown",
   "id": "15628870-9c59-4298-b102-cb07543f22e0",
   "metadata": {},
   "source": [
    "Assigns the value on the right-hand side to the variable on the left-hand side.\n",
    "Example\n",
    "x = 5\n",
    "Checks if two values are equal.\n",
    "Example\n",
    "x == 5\n"
   ]
  },
  {
   "cell_type": "markdown",
   "id": "4529843b-732b-4bcc-b287-503be5bb217c",
   "metadata": {},
   "source": [
    "4. a = -91\n",
    "   b = 32\n",
    "   apply comparision operator"
   ]
  },
  {
   "cell_type": "code",
   "execution_count": 2,
   "id": "05614400-65a5-4c75-ac3a-326383d036b5",
   "metadata": {},
   "outputs": [
    {
     "data": {
      "text/plain": [
       "False"
      ]
     },
     "execution_count": 2,
     "metadata": {},
     "output_type": "execute_result"
    }
   ],
   "source": [
    "#apply a == b\n",
    "-91 == 32"
   ]
  },
  {
   "cell_type": "code",
   "execution_count": 3,
   "id": "f31a43b0-5035-4ba9-bc2a-bd20ef962ed8",
   "metadata": {},
   "outputs": [
    {
     "data": {
      "text/plain": [
       "True"
      ]
     },
     "execution_count": 3,
     "metadata": {},
     "output_type": "execute_result"
    }
   ],
   "source": [
    "#apply a != b\n",
    "-91 != 32"
   ]
  },
  {
   "cell_type": "code",
   "execution_count": 4,
   "id": "3d2d14cf-a345-4da2-b068-6b20dbc74cc4",
   "metadata": {},
   "outputs": [
    {
     "data": {
      "text/plain": [
       "False"
      ]
     },
     "execution_count": 4,
     "metadata": {},
     "output_type": "execute_result"
    }
   ],
   "source": [
    "#apply a > b\n",
    "-91 > 32"
   ]
  },
  {
   "cell_type": "code",
   "execution_count": 5,
   "id": "70488b01-1914-4c21-8a8d-134f67fda8ca",
   "metadata": {},
   "outputs": [
    {
     "data": {
      "text/plain": [
       "True"
      ]
     },
     "execution_count": 5,
     "metadata": {},
     "output_type": "execute_result"
    }
   ],
   "source": [
    "#apply a < b\n",
    "-91 < 32"
   ]
  },
  {
   "cell_type": "code",
   "execution_count": 6,
   "id": "19470cae-9d76-4ada-82eb-e02a4d7d2cd3",
   "metadata": {},
   "outputs": [
    {
     "data": {
      "text/plain": [
       "False"
      ]
     },
     "execution_count": 6,
     "metadata": {},
     "output_type": "execute_result"
    }
   ],
   "source": [
    "#apply a >= b\n",
    "-91 >= 32"
   ]
  },
  {
   "cell_type": "code",
   "execution_count": 7,
   "id": "b6ed1320-38f1-46a1-892f-8859713b050d",
   "metadata": {},
   "outputs": [
    {
     "data": {
      "text/plain": [
       "True"
      ]
     },
     "execution_count": 7,
     "metadata": {},
     "output_type": "execute_result"
    }
   ],
   "source": [
    "#apply a <= b\n",
    "-91 <= 32"
   ]
  },
  {
   "cell_type": "markdown",
   "id": "6de337d4-200d-411c-ace9-ec321a9212a9",
   "metadata": {},
   "source": [
    "5. Define type function.with example.\n",
    "   "
   ]
  },
  {
   "cell_type": "markdown",
   "id": "99fce359-b55d-4753-8077-509aaae30014",
   "metadata": {},
   "source": [
    "- the type() function is used to determine the type of an object storing the data in variables."
   ]
  },
  {
   "cell_type": "markdown",
   "id": "23a1c61b-ea5a-422e-85d3-60d6084396c6",
   "metadata": {},
   "source": [
    "- Example"
   ]
  },
  {
   "cell_type": "code",
   "execution_count": 11,
   "id": "d55ec31b-bf8c-49a9-a60d-976aba99c3b6",
   "metadata": {},
   "outputs": [
    {
     "name": "stdout",
     "output_type": "stream",
     "text": [
      "4\n",
      "2.5\n",
      "(5+8j)\n",
      "<class 'int'>\n",
      "<class 'float'>\n",
      "<class 'complex'>\n"
     ]
    }
   ],
   "source": [
    "x = 4\n",
    "y = 2.5\n",
    "z = 5+8j\n",
    "print(x)\n",
    "print(y)\n",
    "print(z)\n",
    "print(type(x))\n",
    "print(type(y))\n",
    "print(type(z))\n",
    "      "
   ]
  },
  {
   "cell_type": "markdown",
   "id": "cd89a3b5-aea9-468d-aa6d-b0286a256546",
   "metadata": {},
   "source": [
    "6. Define bool function.\n",
    "- the bool()function allow you to evalute any value ,and give you true or false in return."
   ]
  },
  {
   "cell_type": "markdown",
   "id": "261c809b-e877-468a-b05d-b6e543f52ea3",
   "metadata": {},
   "source": [
    "- Example"
   ]
  },
  {
   "cell_type": "code",
   "execution_count": 15,
   "id": "24921fa5-2e1d-4665-b0a2-e800f3f055cc",
   "metadata": {},
   "outputs": [
    {
     "name": "stdout",
     "output_type": "stream",
     "text": [
      "True\n"
     ]
    }
   ],
   "source": [
    "print(bool(4.56<9))"
   ]
  },
  {
   "cell_type": "code",
   "execution_count": 13,
   "id": "edce99b5-a7c0-4556-9f69-cb3cc1950f60",
   "metadata": {},
   "outputs": [
    {
     "name": "stdout",
     "output_type": "stream",
     "text": [
      "False\n"
     ]
    }
   ],
   "source": [
    "print(bool(0))"
   ]
  },
  {
   "cell_type": "markdown",
   "id": "4445c9da-9bac-4643-826e-9533edb3435c",
   "metadata": {},
   "source": [
    "7. write any 3 examples on type casting and type conversions."
   ]
  },
  {
   "cell_type": "code",
   "execution_count": 17,
   "id": "b1c8fce1-a110-4cd4-821b-66f40fa05662",
   "metadata": {},
   "outputs": [
    {
     "name": "stdout",
     "output_type": "stream",
     "text": [
      "25.0\n",
      "4\n",
      "(25+0j)\n",
      "<class 'float'>\n",
      "<class 'int'>\n",
      "<class 'complex'>\n"
     ]
    }
   ],
   "source": [
    "x = 25     #int\n",
    "y = 4.62   #float\n",
    "z = 4+6j   #complex\n",
    "# convert from int to float.\n",
    "a = float(x)\n",
    "# covert from float to int.\n",
    "b = int(y)\n",
    "#covert from int to complex.\n",
    "c = complex(x)\n",
    "print(a)\n",
    "print(b)\n",
    "print(c)\n",
    "\n",
    "print(type(a))\n",
    "print(type(b))\n",
    "print(type(c))"
   ]
  },
  {
   "cell_type": "code",
   "execution_count": null,
   "id": "418dc578-a0fe-4013-b148-e62045361c29",
   "metadata": {},
   "outputs": [],
   "source": []
  }
 ],
 "metadata": {
  "kernelspec": {
   "display_name": "Python 3 (ipykernel)",
   "language": "python",
   "name": "python3"
  },
  "language_info": {
   "codemirror_mode": {
    "name": "ipython",
    "version": 3
   },
   "file_extension": ".py",
   "mimetype": "text/x-python",
   "name": "python",
   "nbconvert_exporter": "python",
   "pygments_lexer": "ipython3",
   "version": "3.11.7"
  }
 },
 "nbformat": 4,
 "nbformat_minor": 5
}
