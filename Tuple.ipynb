{
 "cells": [
  {
   "cell_type": "markdown",
   "id": "2970f5f1-daac-49a1-b897-5bc5e9d03ca4",
   "metadata": {},
   "source": [
    "# Methods"
   ]
  },
  {
   "cell_type": "markdown",
   "id": "b2d8ab99-db38-4fbb-9a2f-90a48633420f",
   "metadata": {},
   "source": [
    "- tuple.__add__(other):"
   ]
  },
  {
   "cell_type": "markdown",
   "id": "9480c442-c77a-4cad-bde2-0b3a1755b719",
   "metadata": {},
   "source": [
    "Concatenates two tuples and returns a new tuple containing elements from both tuples."
   ]
  },
  {
   "cell_type": "code",
   "execution_count": 3,
   "id": "4f9b00ea-a698-4146-8d80-52544b45461b",
   "metadata": {},
   "outputs": [
    {
     "name": "stdout",
     "output_type": "stream",
     "text": [
      "(1, 2, 3, 'a', 'b', 'c')\n"
     ]
    }
   ],
   "source": [
    "tuple1 = (1, 2, 3)\n",
    "tuple2 = ('a', 'b', 'c')\n",
    "result = tuple1 + tuple2\n",
    "print(result)  "
   ]
  },
  {
   "cell_type": "markdown",
   "id": "82087ff1-c020-4d35-9917-3942dbfa5216",
   "metadata": {},
   "source": [
    "- tuple.__mul__(n)"
   ]
  },
  {
   "cell_type": "markdown",
   "id": "8f7aba1a-7135-4586-bcbc-16f39a40c4ae",
   "metadata": {},
   "source": [
    "Returns a new tuple with elements repeated n times."
   ]
  },
  {
   "cell_type": "code",
   "execution_count": 4,
   "id": "373df73e-2171-40a6-bd1e-2bac00b00cdf",
   "metadata": {},
   "outputs": [
    {
     "name": "stdout",
     "output_type": "stream",
     "text": [
      "(1, 2, 1, 2, 1, 2)\n"
     ]
    }
   ],
   "source": [
    "tuple1 = (1, 2)\n",
    "result = tuple1 * 3\n",
    "print(result)  "
   ]
  },
  {
   "cell_type": "markdown",
   "id": "62a15764-e148-419c-93f2-d90a6e2c5505",
   "metadata": {},
   "source": [
    "- tuple.__contains__(value)"
   ]
  },
  {
   "cell_type": "markdown",
   "id": "795eace2-e38e-4123-958c-64df59f3b78e",
   "metadata": {},
   "source": [
    "Returns True if a specified value is present in the tuple, otherwise False."
   ]
  },
  {
   "cell_type": "code",
   "execution_count": 5,
   "id": "6828d232-9523-4185-8593-c4d6d2732d27",
   "metadata": {},
   "outputs": [
    {
     "name": "stdout",
     "output_type": "stream",
     "text": [
      "True\n",
      "False\n"
     ]
    }
   ],
   "source": [
    "my_tuple = (1, 2, 3, 4, 5)\n",
    "print(3 in my_tuple)  \n",
    "print(6 in my_tuple)"
   ]
  },
  {
   "cell_type": "markdown",
   "id": "81a4a7f3-5fea-48c1-868c-3e5391160e17",
   "metadata": {},
   "source": [
    "- tuple.__len__():"
   ]
  },
  {
   "cell_type": "markdown",
   "id": "ce4992d8-4d00-4773-be29-c84992e52a30",
   "metadata": {},
   "source": [
    "Returns the number of elements in the tuple."
   ]
  },
  {
   "cell_type": "code",
   "execution_count": 6,
   "id": "691d99fe-3864-4b88-879d-c865fe01cfd6",
   "metadata": {},
   "outputs": [
    {
     "name": "stdout",
     "output_type": "stream",
     "text": [
      "5\n"
     ]
    }
   ],
   "source": [
    "my_tuple = (1, 2, 3, 4, 5)\n",
    "print(len(my_tuple))"
   ]
  },
  {
   "cell_type": "markdown",
   "id": "361dac10-2255-4479-9906-db6af592648a",
   "metadata": {},
   "source": [
    "- tuple.__getitem__(index):"
   ]
  },
  {
   "cell_type": "markdown",
   "id": "1e875935-198b-4338-9e59-611252836b1c",
   "metadata": {},
   "source": [
    "Returns the element at the specified index."
   ]
  },
  {
   "cell_type": "code",
   "execution_count": 9,
   "id": "4d4d7860-757a-466b-8a5b-0716ad6045c4",
   "metadata": {},
   "outputs": [
    {
     "name": "stdout",
     "output_type": "stream",
     "text": [
      "c\n"
     ]
    }
   ],
   "source": [
    "my_tuple = ('a', 'b', 'c', 'd', 'e')\n",
    "print(my_tuple[2])"
   ]
  },
  {
   "cell_type": "markdown",
   "id": "528f0afd-5229-4032-a5cd-46898042d33e",
   "metadata": {},
   "source": [
    "- tuple.__hash__():"
   ]
  },
  {
   "cell_type": "markdown",
   "id": "70fc7713-db90-489e-b263-a57b3500ba8c",
   "metadata": {},
   "source": [
    "Returns the hash value of the tuple, which can be used for dictionary keys or set elements."
   ]
  },
  {
   "cell_type": "code",
   "execution_count": 12,
   "id": "85507163-ee36-49c1-9eb2-5fce30d87bea",
   "metadata": {},
   "outputs": [
    {
     "name": "stdout",
     "output_type": "stream",
     "text": [
      "529344067295497451\n"
     ]
    }
   ],
   "source": [
    "my_tuple = (1, 2, 3)\n",
    "print(hash(my_tuple))"
   ]
  },
  {
   "cell_type": "markdown",
   "id": "a463e9ff-4b9c-4658-9c10-cdde7138343d",
   "metadata": {},
   "source": [
    "- tuple.__iter__():"
   ]
  },
  {
   "cell_type": "markdown",
   "id": "fbdba762-5381-4349-9bea-610dcbb2148e",
   "metadata": {},
   "source": [
    "Returns an iterator for the tuple, which can be used to iterate over its elements."
   ]
  },
  {
   "cell_type": "code",
   "execution_count": 16,
   "id": "4a375889-79dd-45d2-916d-bbe1531e97a7",
   "metadata": {},
   "outputs": [
    {
     "name": "stdout",
     "output_type": "stream",
     "text": [
      "1\n",
      "2\n",
      "3\n"
     ]
    }
   ],
   "source": [
    "my_tuple = (1, 2, 3)\n",
    "my_iterator = iter(my_tuple)\n",
    "print(next(my_iterator)) \n",
    "print(next(my_iterator))  \n",
    "print(next(my_iterator))"
   ]
  },
  {
   "cell_type": "markdown",
   "id": "4761806e-f268-405a-afe7-1cce92c4588a",
   "metadata": {},
   "source": [
    "- tuple.__reversed__():"
   ]
  },
  {
   "cell_type": "markdown",
   "id": "1263f136-c88d-40cb-abe7-55a2750e6e20",
   "metadata": {},
   "source": [
    "Returns a reversed iterator over the tuple's elements."
   ]
  },
  {
   "cell_type": "code",
   "execution_count": 17,
   "id": "4c9c8cf7-cb72-4774-8d85-e2456a42ee40",
   "metadata": {},
   "outputs": [
    {
     "name": "stdout",
     "output_type": "stream",
     "text": [
      "(3, 2, 1)\n"
     ]
    }
   ],
   "source": [
    "my_tuple = (1, 2, 3)\n",
    "reversed_tuple = reversed(my_tuple)\n",
    "print(tuple(reversed_tuple))"
   ]
  },
  {
   "cell_type": "markdown",
   "id": "ced15cda-9fd7-4135-bc30-accbdc480481",
   "metadata": {},
   "source": [
    "tuple.__eq__(other): Compares two tuples to check if they are equal.\n",
    "\n",
    "tuple.__ne__(other): Compares two tuples to check if they are not equal.\n",
    "\n",
    "tuple.__lt__(other): Compares two tuples to check if the first is less than the second.\n",
    "\n",
    "tuple.__le__(other): Compares two tuples to check if the first is less than or equal to the second.\n",
    "\n",
    "tuple.__gt__(other): Compares two tuples to check if the first is greater than the second.\n",
    "\n",
    "tuple.__ge__(other): Compares two tuples to check if the first is greater than or equal to the second."
   ]
  },
  {
   "cell_type": "code",
   "execution_count": 18,
   "id": "5463dd74-c4af-4f94-9b57-18e153ed2e64",
   "metadata": {},
   "outputs": [
    {
     "name": "stdout",
     "output_type": "stream",
     "text": [
      "False\n",
      "True\n",
      "True\n",
      "True\n",
      "False\n",
      "False\n"
     ]
    }
   ],
   "source": [
    "tuple1 = (1, 2, 3)\n",
    "tuple2 = (1, 2, 4)\n",
    "print(tuple1 == tuple2) \n",
    "print(tuple1 != tuple2)  \n",
    "print(tuple1 < tuple2)   \n",
    "print(tuple1 <= tuple2)  \n",
    "print(tuple1 > tuple2)   \n",
    "print(tuple1 >= tuple2)  "
   ]
  },
  {
   "cell_type": "code",
   "execution_count": null,
   "id": "a9cfa04a-85c0-4d4c-a8f0-fa21fbde8bd3",
   "metadata": {},
   "outputs": [],
   "source": []
  }
 ],
 "metadata": {
  "kernelspec": {
   "display_name": "Python 3 (ipykernel)",
   "language": "python",
   "name": "python3"
  },
  "language_info": {
   "codemirror_mode": {
    "name": "ipython",
    "version": 3
   },
   "file_extension": ".py",
   "mimetype": "text/x-python",
   "name": "python",
   "nbconvert_exporter": "python",
   "pygments_lexer": "ipython3",
   "version": "3.11.7"
  }
 },
 "nbformat": 4,
 "nbformat_minor": 5
}
