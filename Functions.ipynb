{
 "cells": [
  {
   "cell_type": "code",
   "execution_count": 1,
   "id": "66305929-6c21-4efd-a0ca-94937c70d178",
   "metadata": {},
   "outputs": [
    {
     "data": {
      "text/plain": [
       "-55"
      ]
     },
     "execution_count": 1,
     "metadata": {},
     "output_type": "execute_result"
    }
   ],
   "source": [
    "def add_numbers(p,q,r):\n",
    "    result=p-q-r\n",
    "    return(result)\n",
    "\n",
    "add_numbers(25,35,45)\n",
    "    "
   ]
  },
  {
   "cell_type": "code",
   "execution_count": 3,
   "id": "8e618234-e09c-4325-bc24-a39bc25ac740",
   "metadata": {},
   "outputs": [
    {
     "data": {
      "text/plain": [
       "6000000"
      ]
     },
     "execution_count": 3,
     "metadata": {},
     "output_type": "execute_result"
    }
   ],
   "source": [
    "def counter(x,y,z):\n",
    "    result=x*y*z\n",
    "    return(result)\n",
    "\n",
    "counter(100,200,300)"
   ]
  },
  {
   "cell_type": "code",
   "execution_count": 4,
   "id": "240446ed-26f3-4432-9dc0-dff94c14d7bd",
   "metadata": {},
   "outputs": [
    {
     "data": {
      "text/plain": [
       "2"
      ]
     },
     "execution_count": 4,
     "metadata": {},
     "output_type": "execute_result"
    }
   ],
   "source": [
    "def mixed(n,m,a):\n",
    "    result=n%m%a\n",
    "    return(result)\n",
    "\n",
    "mixed(2,4,6)\n"
   ]
  },
  {
   "cell_type": "code",
   "execution_count": 7,
   "id": "99952d0d-fa1f-4109-8e12-12504f97f956",
   "metadata": {},
   "outputs": [
    {
     "data": {
      "text/plain": [
       "0.01"
      ]
     },
     "execution_count": 7,
     "metadata": {},
     "output_type": "execute_result"
    }
   ],
   "source": [
    "def adding(p,q,r):\n",
    "    result=p/q/r\n",
    "    return(result)\n",
    "\n",
    "adding(5,20,25)"
   ]
  },
  {
   "cell_type": "code",
   "execution_count": 8,
   "id": "8992affd-e4a6-41dc-9c61-9f55697cd9c3",
   "metadata": {},
   "outputs": [
    {
     "data": {
      "text/plain": [
       "1600"
      ]
     },
     "execution_count": 8,
     "metadata": {},
     "output_type": "execute_result"
    }
   ],
   "source": [
    "def round(a,b,c):\n",
    "    result=a+b+c\n",
    "    return(result)\n",
    "\n",
    "round(300,600,700)"
   ]
  },
  {
   "cell_type": "code",
   "execution_count": 13,
   "id": "1811d549-c2d7-4e43-8949-0e8e20b71b1e",
   "metadata": {},
   "outputs": [
    {
     "name": "stdin",
     "output_type": "stream",
     "text": [
      " 1\n",
      " 4\n",
      " 7\n"
     ]
    },
    {
     "name": "stdout",
     "output_type": "stream",
     "text": [
      "c is smaller\n"
     ]
    }
   ],
   "source": [
    "a=int(input())\n",
    "b=int(input())\n",
    "c=int(input())\n",
    "if a>b>c:\n",
    "    print(\"a is larger \")\n",
    "elif a<b>c:\n",
    "    print(\"b is larger \")\n",
    "else:\n",
    "    print(\"c is smaller\")"
   ]
  },
  {
   "cell_type": "code",
   "execution_count": 1,
   "id": "54f100e6-7221-4dbe-969d-cdb09132f168",
   "metadata": {},
   "outputs": [
    {
     "name": "stdout",
     "output_type": "stream",
     "text": [
      "a and b are equal\n"
     ]
    }
   ],
   "source": [
    "\n",
    "def numbers(a,b):\n",
    "        if b > a:\n",
    "            print(\"b is greater than a\")\n",
    "        elif a == b:\n",
    "            print(\"a and b are equal\")\n",
    "        else:\n",
    "            print(\"a is greater than b\")\n",
    "            \n",
    "\n",
    "numbers(33,33)\n"
   ]
  },
  {
   "cell_type": "code",
   "execution_count": 39,
   "id": "749a994c-fc86-4f88-a509-612520197e0f",
   "metadata": {},
   "outputs": [
    {
     "name": "stdout",
     "output_type": "stream",
     "text": [
      "1\n",
      "2\n",
      "3\n",
      "4\n",
      "5\n"
     ]
    }
   ],
   "source": [
    "def count(num):\n",
    "  i = 1\n",
    "  while i < 6:\n",
    "    print(i)\n",
    "    i += 1\n",
    "\n",
    "count(1)\n",
    "\n",
    "        \n",
    "    \n",
    "    \n"
   ]
  },
  {
   "cell_type": "code",
   "execution_count": 41,
   "id": "8e513cb7-f29f-4acf-b4b7-fe72468846ef",
   "metadata": {},
   "outputs": [
    {
     "name": "stdout",
     "output_type": "stream",
     "text": [
      "Hello, soni. Hello, navee. Hello, ludhi. Welcome!\n"
     ]
    }
   ],
   "source": [
    "def greet(name):\n",
    "    return \"Hello, \" + name\n",
    "\n",
    "def welcome(names):\n",
    "    welcome_message = \"\"\n",
    "    for name in names:\n",
    "        message = greet(name)  \n",
    "        welcome_message += message + \". \"  \n",
    "    return welcome_message + \"Welcome!\"\n",
    "\n",
    "guests = [\"soni\", \"navee\", \"ludhi\"]\n",
    "print(welcome(guests)) "
   ]
  },
  {
   "cell_type": "code",
   "execution_count": 16,
   "id": "6f729185-998e-4727-b1c6-6e37e2b865fb",
   "metadata": {},
   "outputs": [
    {
     "name": "stdout",
     "output_type": "stream",
     "text": [
      "x is greater than 10\n",
      "x is less than or equal to 10\n"
     ]
    }
   ],
   "source": [
    "def check_condition(x):\n",
    "    if x > 10:\n",
    "        print(\"x is greater than 10\")\n",
    "    else:\n",
    "        print(\"x is less than or equal to 10\")\n",
    "\n",
    "\n",
    "check_condition(15)  \n",
    "check_condition(5)  \n"
   ]
  },
  {
   "cell_type": "code",
   "execution_count": 17,
   "id": "5c0d7a25-c917-4358-8cd7-1a3809d0b4b8",
   "metadata": {},
   "outputs": [
    {
     "name": "stdout",
     "output_type": "stream",
     "text": [
      "1 is odd\n",
      "2 is even\n",
      "3 is odd\n",
      "4 is even\n",
      "5 is odd\n",
      "6 is even\n",
      "7 is odd\n"
     ]
    }
   ],
   "source": [
    "def process_numbers(n):\n",
    "    for i in range(1, n + 1):\n",
    "        if i % 2 == 0:\n",
    "            print(f\"{i} is even\")\n",
    "        else:\n",
    "            print(f\"{i} is odd\")\n",
    "            \n",
    "process_numbers(7)  \n",
    "\n"
   ]
  },
  {
   "cell_type": "code",
   "execution_count": null,
   "id": "e452e04a-a993-4e37-b99d-46ab2bb7c8f5",
   "metadata": {},
   "outputs": [],
   "source": []
  }
 ],
 "metadata": {
  "kernelspec": {
   "display_name": "Python 3 (ipykernel)",
   "language": "python",
   "name": "python3"
  },
  "language_info": {
   "codemirror_mode": {
    "name": "ipython",
    "version": 3
   },
   "file_extension": ".py",
   "mimetype": "text/x-python",
   "name": "python",
   "nbconvert_exporter": "python",
   "pygments_lexer": "ipython3",
   "version": "3.11.7"
  }
 },
 "nbformat": 4,
 "nbformat_minor": 5
}
