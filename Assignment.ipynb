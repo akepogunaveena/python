{
 "cells": [
  {
   "cell_type": "code",
   "execution_count": 1,
   "id": "c8840289-9b22-40d1-94f7-029a4e40f03b",
   "metadata": {},
   "outputs": [
    {
     "name": "stdout",
     "output_type": "stream",
     "text": [
      "The factorial of 5 (iterative) is: 120\n"
     ]
    }
   ],
   "source": [
    "\n",
    "def factorial_iterative(n):\n",
    "    factorial = 1\n",
    "    for i in range(1, n + 1):\n",
    "        factorial *= i\n",
    "    return factorial\n",
    "num = 5\n",
    "print(f\"The factorial of {num} (iterative) is: {factorial_iterative(num)}\")\n"
   ]
  },
  {
   "cell_type": "code",
   "execution_count": 5,
   "id": "e99abee7-def2-4dde-b238-293783608cae",
   "metadata": {},
   "outputs": [
    {
     "name": "stdout",
     "output_type": "stream",
     "text": [
      "It is not prime number\n",
      "It is not prime number\n",
      " prime number\n",
      "It is not prime number\n",
      "It is not prime number\n",
      "It is not prime number\n",
      "It is not prime number\n",
      "It is not prime number\n",
      "It is not prime number\n"
     ]
    }
   ],
   "source": [
    "list=[1,2,3,4,5,6,8,9,10]\n",
    "for i in list:\n",
    "    if i == 3:\n",
    "        print(\" prime number\")\n",
    "    else:\n",
    "        print(\"It is not prime number\")\n",
    "        "
   ]
  },
  {
   "cell_type": "code",
   "execution_count": 9,
   "id": "26b555fa-1e1f-4231-9c7e-065c614c1b2e",
   "metadata": {},
   "outputs": [
    {
     "name": "stdout",
     "output_type": "stream",
     "text": [
      "helo\n"
     ]
    }
   ],
   "source": [
    "def remove_duplicates(word):\n",
    "    seen = set()\n",
    "    unique_chars = []\n",
    "    \n",
    "    for char in word:\n",
    "        if char not in seen:\n",
    "            seen.add(char)\n",
    "            unique_chars.append(char)\n",
    "    \n",
    "    return ''.join(unique_chars)\n",
    "word = \"hello\"\n",
    "result = remove_duplicates(word)\n",
    "print(result)  \n",
    "\n",
    "\n"
   ]
  },
  {
   "cell_type": "code",
   "execution_count": 12,
   "id": "977642b3-0f4d-4cae-852b-373ce29ade09",
   "metadata": {},
   "outputs": [
    {
     "name": "stdout",
     "output_type": "stream",
     "text": [
      "The square of 5 is: 25\n"
     ]
    }
   ],
   "source": [
    "number = 5\n",
    "square = number ** 2\n",
    "print(f\"The square of {number} is: {square}\")\n",
    "\n",
    "    "
   ]
  },
  {
   "cell_type": "code",
   "execution_count": 13,
   "id": "3dc7c9f4-7902-4b31-b6ef-5881360e83ea",
   "metadata": {},
   "outputs": [
    {
     "name": "stdout",
     "output_type": "stream",
     "text": [
      "The maximum number in the list is: 10\n"
     ]
    }
   ],
   "source": [
    "my_list = [3, 7, 1, 10, 5]\n",
    "max_number = max(my_list)\n",
    "print(\"The maximum number in the list is:\", max_number)"
   ]
  },
  {
   "cell_type": "code",
   "execution_count": 14,
   "id": "6eedc8f3-d201-4919-abeb-36f90c57ed12",
   "metadata": {},
   "outputs": [
    {
     "name": "stdout",
     "output_type": "stream",
     "text": [
      "The minimum number in the list is: 200\n"
     ]
    }
   ],
   "source": [
    "my_list=[200,500,800,700,300,800]\n",
    "min_number=min(my_list)\n",
    "print(\"The minimum number in the list is:\",min_number)"
   ]
  },
  {
   "cell_type": "code",
   "execution_count": 19,
   "id": "cf07022d-788a-4925-b6a0-fb4197fcf4c7",
   "metadata": {},
   "outputs": [
    {
     "name": "stdout",
     "output_type": "stream",
     "text": [
      " It is a small number\n",
      " It is a small number\n",
      " It is a small number\n"
     ]
    }
   ],
   "source": [
    "list=[3000,5000,8000]\n",
    "for i in list:\n",
    "    if 3000 < 5000:\n",
    "        print(\" It is a small number\")\n",
    "    else:\n",
    "        print(\" It is not a small number\")"
   ]
  },
  {
   "cell_type": "code",
   "execution_count": 20,
   "id": "edae56cc-f5f8-459f-a01c-1da2af585456",
   "metadata": {},
   "outputs": [
    {
     "name": "stdout",
     "output_type": "stream",
     "text": [
      "The largest element in the list is: 78\n"
     ]
    }
   ],
   "source": [
    "my_list = [10, 23, 45, 6, 78, 54]\n",
    "largest = max(my_list)\n",
    "print(\"The largest element in the list is:\", largest)\n"
   ]
  },
  {
   "cell_type": "code",
   "execution_count": null,
   "id": "e2c9ecb1-88a3-4f15-8cd3-4fa3e2dedf92",
   "metadata": {},
   "outputs": [],
   "source": []
  }
 ],
 "metadata": {
  "kernelspec": {
   "display_name": "Python 3 (ipykernel)",
   "language": "python",
   "name": "python3"
  },
  "language_info": {
   "codemirror_mode": {
    "name": "ipython",
    "version": 3
   },
   "file_extension": ".py",
   "mimetype": "text/x-python",
   "name": "python",
   "nbconvert_exporter": "python",
   "pygments_lexer": "ipython3",
   "version": "3.11.7"
  }
 },
 "nbformat": 4,
 "nbformat_minor": 5
}
