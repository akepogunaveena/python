{
 "cells": [
  {
   "cell_type": "code",
   "execution_count": 18,
   "id": "8c0ad012-a8e3-4f35-9ba7-8deeb54960c5",
   "metadata": {},
   "outputs": [
    {
     "name": "stdout",
     "output_type": "stream",
     "text": [
      "my mobile is on\n",
      "my mobile is off\n",
      "we can see the reels\n",
      "we can join the live\n",
      "we can able to read and we can see\n",
      "I can added new friends\n",
      "I want new kudtha set\n",
      "I bought new watch\n"
     ]
    }
   ],
   "source": [
    "class mobile:\n",
    "    def switch_on(self):\n",
    "        print(\"my mobile is on\")\n",
    "    def switch_off(self):\n",
    "        print(\"my mobile is off\")\n",
    "\n",
    "class instragram(mobile):\n",
    "    def reels(self):\n",
    "        print(\"we can see the reels\")\n",
    "        print(\"we can join the live\")\n",
    "class whatsapp(mobile):\n",
    "    def messages(self):\n",
    "        print(\"we can able to read and we can see\")\n",
    "class facebook(mobile):\n",
    "    def friends(self):\n",
    "        print(\"I can added new friends\")\n",
    "class Ajio(mobile):\n",
    "    def shopping(self):\n",
    "        print(\"I want new kudtha set\")\n",
    "class flipkart(mobile):\n",
    "    def things(self):\n",
    "        print(\"I bought new watch\")\n",
    "\n",
    "instragram1=instragram()\n",
    "instragram1.switch_on()\n",
    "instragram1.switch_off()\n",
    "instragram1.reels()\n",
    "whatsapp1=whatsapp()\n",
    "whatsapp1.messages()\n",
    "facebook1=facebook()\n",
    "facebook1.friends()\n",
    "Ajio1=Ajio()\n",
    "Ajio1.shopping()\n",
    "flipkart1=flipkart()\n",
    "flipkart1.things()\n",
    "\n",
    "\n",
    "\n",
    "    "
   ]
  },
  {
   "cell_type": "code",
   "execution_count": 23,
   "id": "35384a71-9a26-4542-8967-bb6f3a84db79",
   "metadata": {},
   "outputs": [
    {
     "name": "stdout",
     "output_type": "stream",
     "text": [
      "Inside home\n",
      "In ground\n",
      "virat kohili is batsman\n",
      "special coin in red\n",
      "saina nehwal is a tennis player\n",
      "It consisting of 6 players\n"
     ]
    }
   ],
   "source": [
    "class games():\n",
    "    def indoor(self):\n",
    "        print(\"Inside home\")\n",
    "    def outdoor(self):\n",
    "        print(\"In ground\")\n",
    "class cricket(games):\n",
    "    def bat(self):\n",
    "        print(\"virat kohili is batsman\")\n",
    "class carroms(games):\n",
    "    def coin(self):\n",
    "        print(\"special coin in red\")\n",
    "class Tennis(games):\n",
    "    def cork(self):\n",
    "        print(\"saina nehwal is a tennis player\")\n",
    "class ludo(games):\n",
    "    def die(self):\n",
    "        print(\"It consisting of 6 players\")\n",
    "\n",
    "cricket1=cricket()\n",
    "cricket1.indoor()\n",
    "cricket1.outdoor()\n",
    "cricket1.bat()\n",
    "carroms1=carroms()\n",
    "carroms1.coin()\n",
    "Tennis1=Tennis()\n",
    "Tennis1.cork()\n",
    "ludo1=ludo()\n",
    "ludo1.die()"
   ]
  },
  {
   "cell_type": "code",
   "execution_count": 1,
   "id": "48c4d9d9-0877-4037-b97a-9a4f37cd674e",
   "metadata": {},
   "outputs": [
    {
     "name": "stdout",
     "output_type": "stream",
     "text": [
      "554732\n",
      "AC room\n"
     ]
    }
   ],
   "source": [
    "class ATM:\n",
    "    def __init__(self,password,room):\n",
    "        self.__password=password\n",
    "        self._room=room\n",
    "        print(self.__password)\n",
    "class ATM1(ATM):\n",
    "    def glass(self):\n",
    "        print(self._room)\n",
    "\n",
    "d=ATM1(554732,\"AC room\")\n",
    "d.glass()\n",
    "        \n",
    "        "
   ]
  },
  {
   "cell_type": "code",
   "execution_count": 14,
   "id": "703fc091-95f5-4d73-8498-3b7c8aace34c",
   "metadata": {},
   "outputs": [
    {
     "name": "stdout",
     "output_type": "stream",
     "text": [
      "996645\n",
      "naveena\n",
      "873452\n",
      "445522\n",
      "ludhiya\n",
      "669933\n"
     ]
    }
   ],
   "source": [
    "class phonepay:\n",
    "    def __init__(self,pin,name,upi):\n",
    "        self.__pin=pin\n",
    "        self._name=name\n",
    "        self._upi=upi\n",
    "        print(self.__pin)\n",
    "class  phonepay1(phonepay):\n",
    "    def debit(self):\n",
    "        print(self._name)\n",
    "    def credit(self):\n",
    "        print(self._upi)\n",
    "class phonepay2(phonepay):\n",
    "    def user(self):\n",
    "        print(self._name)\n",
    "    def check_balance(self):\n",
    "        print(self._upi)\n",
    "\n",
    "obj=phonepay1(996645,\"naveena\",873452)\n",
    "obj.debit()\n",
    "obj.credit()\n",
    "obj1=phonepay2(445522,\"ludhiya\",669933)\n",
    "obj1.user()\n",
    "obj1.check_balance()\n",
    "\n",
    "        \n",
    "        "
   ]
  },
  {
   "cell_type": "code",
   "execution_count": null,
   "id": "52a2600f-582d-425c-ae6e-6e9c406dd785",
   "metadata": {},
   "outputs": [],
   "source": []
  }
 ],
 "metadata": {
  "kernelspec": {
   "display_name": "Python 3 (ipykernel)",
   "language": "python",
   "name": "python3"
  },
  "language_info": {
   "codemirror_mode": {
    "name": "ipython",
    "version": 3
   },
   "file_extension": ".py",
   "mimetype": "text/x-python",
   "name": "python",
   "nbconvert_exporter": "python",
   "pygments_lexer": "ipython3",
   "version": "3.11.7"
  }
 },
 "nbformat": 4,
 "nbformat_minor": 5
}
